{
 "cells": [
  {
   "cell_type": "code",
   "execution_count": null,
   "metadata": {},
   "outputs": [
    {
     "name": "stdout",
     "output_type": "stream",
     "text": [
      "Successfully created 4000 records in 'math_problems.csv'.\n"
     ]
    }
   ],
   "source": [
    "import random\n",
    "import csv\n",
    "import inflect\n",
    "\n",
    "# Initialize the inflect engine\n",
    "p = inflect.engine()\n",
    "\n",
    "def generate_random_math_word_question():\n",
    "    \"\"\"\n",
    "    Generates a random math word problem with a corresponding solution.\n",
    "\n",
    "    Returns:\n",
    "        tuple: A tuple containing the question (str) and the answer (str in word format with hyphens).\n",
    "    \"\"\"\n",
    "    templates = [\n",
    "        \"If {num1} apples are added to {num2} apples - how many apples are there in total?\",\n",
    "        \"A train travels {num1} miles in the morning and {num2} miles in the evening - What is the total distance traveled?\",\n",
    "        \"There are {num1} pencils in one box and {num2} pencils in another box - How many pencils are there altogether?\",\n",
    "        \"If a shop sells {num1} toys on Monday and {num2} toys on Tuesday - how many toys were sold in total?\",\n",
    "        \"Sam has {num1} marbles and he loses {num2} marbles - How many marbles does Sam have left?\",\n",
    "        \"A baker has {num1} muffins and bakes {num2} more muffins - How many muffins does the baker have now?\",\n",
    "        \"A store sells {num1} candies and {num2} candies are left - How many candies were sold in total?\"\n",
    "    ]\n",
    "\n",
    "    template = random.choice(templates)\n",
    "    num1 = random.randint(1, 20)  # Random number between 1 and 100\n",
    "    num2 = random.randint(1, 20)  # Random number between 1 and 100\n",
    "\n",
    "    question = template.format(num1=num1, num2=num2)\n",
    "\n",
    "    if \"added\" in question or \"altogether\" in question or \"bakes\" in question or \"total distance\" in question or \"How many\" in question or \"how many\" in question:\n",
    "        answer = num1 + num2\n",
    "    elif \"loses\" in question or \"left\" in question:\n",
    "        answer = num1 - num2\n",
    "    else:\n",
    "        answer = \"Logic depends on question wording\"  # Placeholder for further complexity\n",
    "\n",
    "    # Convert the answer to its word format and replace spaces with hyphens\n",
    "    answer_word = p.number_to_words(answer).replace(\" \", \"-\") if isinstance(answer, int) else answer\n",
    "\n",
    "    return question, answer_word\n",
    "\n",
    "def create_csv_with_questions(file_name, num_records):\n",
    "    \"\"\"\n",
    "    Generates a specified number of math word questions and saves them to a CSV file.\n",
    "\n",
    "    Args:\n",
    "        file_name (str): Name of the CSV file to save the records.\n",
    "        num_records (int): Number of math word problems to generate.\n",
    "    \"\"\"\n",
    "    # Open the CSV file in write mode\n",
    "    with open(file_name, mode='w', newline='', encoding='utf-8') as file:\n",
    "        writer = csv.writer(file)\n",
    "        # Write the header row\n",
    "        writer.writerow([\"Question\", \"Answer\"])\n",
    "\n",
    "        # Generate and write the records\n",
    "        for _ in range(num_records):\n",
    "            question, answer = generate_random_math_word_question()\n",
    "            writer.writerow([question, answer])\n",
    "    \n",
    "    print(f\"Successfully created {num_records} records in '{file_name}'.\")\n",
    "\n",
    "# Example: Generate 100 records and save to math_problems.csv\n",
    "create_csv_with_questions(\"math_word_problems.csv\", 4000)"
   ]
  }
 ],
 "metadata": {
  "kernelspec": {
   "display_name": "base",
   "language": "python",
   "name": "python3"
  },
  "language_info": {
   "codemirror_mode": {
    "name": "ipython",
    "version": 3
   },
   "file_extension": ".py",
   "mimetype": "text/x-python",
   "name": "python",
   "nbconvert_exporter": "python",
   "pygments_lexer": "ipython3",
   "version": "3.12.3"
  }
 },
 "nbformat": 4,
 "nbformat_minor": 2
}
