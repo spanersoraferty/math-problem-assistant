{
 "cells": [
  {
   "cell_type": "markdown",
   "metadata": {},
   "source": [
    "## Generate dataset"
   ]
  },
  {
   "cell_type": "code",
   "execution_count": 2,
   "metadata": {},
   "outputs": [
    {
     "name": "stdout",
     "output_type": "stream",
     "text": [
      "Dataset saved to simple_quadratic_problems.csv\n"
     ]
    }
   ],
   "source": [
    "import random\n",
    "import pandas as pd\n",
    "import sympy as sp\n",
    "\n",
    "class ExtendedAlgebraProblemGenerator:\n",
    "    def __init__(self, num_samples=1000, output_file=\"simple_quadratic_problems.csv\"):\n",
    "        self.num_samples = num_samples\n",
    "        self.output_file = output_file\n",
    "\n",
    "    def generate_linear_problem(self):\n",
    "        a = random.randint(1, 10)\n",
    "        b = random.randint(1, 10)\n",
    "        c = random.randint(1, 20)\n",
    "        question = f\"If {a} times a number plus {b} equals {c}, what is the number?\"\n",
    "        answer = (c - b) / a\n",
    "        return question, round(answer, 2)\n",
    "\n",
    "    def generate_quadratic_problem(self):\n",
    "        a = random.randint(1, 5)  # Coefficient of x^2\n",
    "        b = random.randint(0, 10)  # Coefficient of x\n",
    "        c = random.randint(0, 20)  # Constant\n",
    "\n",
    "        # Solve for x using Sympy\n",
    "        x = sp.symbols('x')\n",
    "        solutions = sp.solve(a * x**2 + b * x + c, x)\n",
    "\n",
    "        # Keep real solutions only\n",
    "        real_solutions = [sol.evalf() for sol in solutions if sol.is_real]\n",
    "        if not real_solutions:\n",
    "            return self.generate_quadratic_problem()  # Regenerate if no real solutions\n",
    "\n",
    "        # Convert the equation into a word problem\n",
    "        question = f\"The square of a number, multiplied by {a}, plus {b} times the number, plus {c} equals 0. What is the number?\"\n",
    "        answer = \", \".join([str(round(sol, 2)) for sol in real_solutions])\n",
    "\n",
    "        return question, answer\n",
    "\n",
    "    def generate_dataset(self):\n",
    "        data = []\n",
    "        for _ in range(self.num_samples):\n",
    "            data.append(self.generate_quadratic_problem())\n",
    "        df = pd.DataFrame(data, columns=[\"Problem\", \"Solution\"])\n",
    "        return df\n",
    "\n",
    "    def save_dataset(self):\n",
    "        df = self.generate_dataset()\n",
    "        df.to_csv(self.output_file, index=False)\n",
    "        print(f\"Dataset saved to {self.output_file}\")\n",
    "\n",
    "# Example usage\n",
    "if __name__ == \"__main__\":\n",
    "    generator = ExtendedAlgebraProblemGenerator(num_samples=500)\n",
    "    generator.save_dataset()"
   ]
  }
 ],
 "metadata": {
  "kernelspec": {
   "display_name": "base",
   "language": "python",
   "name": "python3"
  },
  "language_info": {
   "codemirror_mode": {
    "name": "ipython",
    "version": 3
   },
   "file_extension": ".py",
   "mimetype": "text/x-python",
   "name": "python",
   "nbconvert_exporter": "python",
   "pygments_lexer": "ipython3",
   "version": "3.12.7"
  }
 },
 "nbformat": 4,
 "nbformat_minor": 2
}
