{
 "cells": [
  {
   "cell_type": "markdown",
   "metadata": {},
   "source": [
    "## Generate dataset\n",
    "\n",
    "The number of permutations this generator could create depends on the range of numbers, the operations, and the variations in the format of problems. Let me break it down:\n",
    "\n",
    "1. **Range of Numbers**: \n",
    "   - Your generator picks numbers between 1 and 100 for both `num1` and `num2`.\n",
    "   - This gives **100 × 100 = 10,000** possible number combinations.\n",
    "\n",
    "2. **Operations**:\n",
    "   - You have four operations: `plus`, `minus`, `times`, and `divided by`.\n",
    "   - For each number combination, you can apply one of these operations, giving **10,000 × 4 = 40,000** combinations.\n",
    "\n",
    "3. **Division Specifics**:\n",
    "   - When dividing, if the denominator (`num2`) is zero, it adjusts to avoid division by zero, ensuring valid outputs.\n",
    "\n",
    "4. **Word Conversion**:\n",
    "   - Since the generator uses `num2words` to convert numbers and results into words, the representation of problems as sentences in words doesn't add new permutations but provides linguistic variety.\n",
    "\n",
    "So, in total, the generator can theoretically produce **40,000 unique permutations** of math problems. If duplicates are avoided using the `seen_problems` set, this ensures the dataset is maximally diverse.\n",
    "\n",
    "If you'd like to explore extending the range of numbers, adding more operations (like exponentiation), or including different formats of questions, the number of permutations can grow significantly! 🚀 Let me know if you'd like to explore that further!"
   ]
  },
  {
   "cell_type": "code",
   "execution_count": null,
   "metadata": {},
   "outputs": [
    {
     "name": "stdout",
     "output_type": "stream",
     "text": [
      "Dataset saved to simple_math_problems_addition_only.csv\n"
     ]
    }
   ],
   "source": [
    "import pandas as pd\n",
    "import random\n",
    "from num2words import num2words\n",
    "\n",
    "class SimpleMathProblemsGenerator:\n",
    "    def __init__(self, num_samples=1000, output_file=\"simple_math_problems_addition_only.csv\"):\n",
    "        self.num_samples = num_samples\n",
    "        self.output_file = output_file\n",
    "        self.operations = [\n",
    "            (\"plus\", lambda x, y: x + y),\n",
    "            (\"minus\", lambda x, y: x - y),\n",
    "            (\"times\", lambda x, y: x * y),\n",
    "            (\"divided by\", lambda x, y: round(x / y, 2) if y != 0 else None)\n",
    "        ]\n",
    "        self.existing_questions_and_answers = set()  # Set to track unique problems\n",
    "\n",
    "    def generate_problem(self):\n",
    "        while True:\n",
    "            num1 = random.randint(1, 100)\n",
    "            num2 = random.randint(1, 100)\n",
    "            operation, func = random.choice(self.operations)\n",
    "\n",
    "            if operation == \"divided by\" and num2 == 0:\n",
    "                num2 = random.randint(1, 100)\n",
    "\n",
    "            result = func(num1, num2)\n",
    "            result_word = (\n",
    "                num2words(result).replace(\"-\", \" \").replace(\",\", \"\")\n",
    "                if result is not None else \"undefined\"\n",
    "            )\n",
    "            question = f\"{num2words(num1)} {operation} {num2words(num2)}\".replace(\"-\", \" \")\n",
    "            answer = result_word\n",
    "\n",
    "            # Ensure uniqueness\n",
    "            if (question, answer) not in self.existing_questions_and_answers:\n",
    "                self.existing_questions_and_answers.add((question, answer))\n",
    "                return question, answer\n",
    "\n",
    "    def generate_dataset(self):\n",
    "        data = [self.generate_problem() for _ in range(self.num_samples)]\n",
    "        df = pd.DataFrame(data, columns=[\"Problem\", \"Solution\"])\n",
    "        return df\n",
    "\n",
    "    def save_dataset(self):\n",
    "        df = self.generate_dataset()\n",
    "        df.to_csv(self.output_file, index=False)\n",
    "        print(f\"Dataset saved to {self.output_file}\")\n",
    "\n",
    "# Example usage\n",
    "if __name__ == \"__main__\":\n",
    "    generator = SimpleMathProblemsGenerator(num_samples=10000)\n",
    "    generator.save_dataset()"
   ]
  }
 ],
 "metadata": {
  "kernelspec": {
   "display_name": "base",
   "language": "python",
   "name": "python3"
  },
  "language_info": {
   "codemirror_mode": {
    "name": "ipython",
    "version": 3
   },
   "file_extension": ".py",
   "mimetype": "text/x-python",
   "name": "python",
   "nbconvert_exporter": "python",
   "pygments_lexer": "ipython3",
   "version": "3.12.3"
  }
 },
 "nbformat": 4,
 "nbformat_minor": 2
}
