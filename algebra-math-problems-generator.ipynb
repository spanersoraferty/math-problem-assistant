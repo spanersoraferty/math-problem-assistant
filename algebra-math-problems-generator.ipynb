{
 "cells": [
  {
   "cell_type": "markdown",
   "metadata": {},
   "source": [
    "## Generate dataset"
   ]
  },
  {
   "cell_type": "code",
   "execution_count": 2,
   "metadata": {},
   "outputs": [
    {
     "name": "stdout",
     "output_type": "stream",
     "text": [
      "Dataset saved to simple_algebra_problems.csv\n"
     ]
    }
   ],
   "source": [
    "import random\n",
    "import pandas as pd\n",
    "\n",
    "class AlgebraProblemGenerator:\n",
    "    def __init__(self, num_samples=1000, output_file=\"simple_algebra_problems.csv\"):\n",
    "        self.num_samples = num_samples\n",
    "        self.output_file = output_file\n",
    "\n",
    "    def generate_problem(self):\n",
    "        # Randomly generate coefficients and constants\n",
    "        a = random.randint(1, 10)\n",
    "        b = random.randint(1, 10)\n",
    "        c = random.randint(1, 20)\n",
    "\n",
    "        # Create the equation ax + b = c\n",
    "        question = f\"If {a} times a number plus {b} equals {c}, what is the number?\"\n",
    "        answer = (c - b) / a  # Solve for x\n",
    "\n",
    "        return question, round(answer, 2)\n",
    "\n",
    "    def generate_dataset(self):\n",
    "        # Generate a dataset of problems\n",
    "        data = [self.generate_problem() for _ in range(self.num_samples)]\n",
    "        df = pd.DataFrame(data, columns=[\"Problem\", \"Solution\"])\n",
    "        return df\n",
    "\n",
    "    def save_dataset(self):\n",
    "        # Save the dataset to a CSV file\n",
    "        df = self.generate_dataset()\n",
    "        df.to_csv(self.output_file, index=False)\n",
    "        print(f\"Dataset saved to {self.output_file}\")\n",
    "\n",
    "# Example usage\n",
    "if __name__ == \"__main__\":\n",
    "    generator = AlgebraProblemGenerator(num_samples=500)\n",
    "    generator.save_dataset()"
   ]
  }
 ],
 "metadata": {
  "kernelspec": {
   "display_name": "base",
   "language": "python",
   "name": "python3"
  },
  "language_info": {
   "codemirror_mode": {
    "name": "ipython",
    "version": 3
   },
   "file_extension": ".py",
   "mimetype": "text/x-python",
   "name": "python",
   "nbconvert_exporter": "python",
   "pygments_lexer": "ipython3",
   "version": "3.12.7"
  }
 },
 "nbformat": 4,
 "nbformat_minor": 2
}
